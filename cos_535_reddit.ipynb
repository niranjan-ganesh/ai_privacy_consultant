{
 "cells": [
  {
   "cell_type": "code",
   "execution_count": 1,
   "id": "5c391f7b-c127-44f6-9625-a03b23e004a0",
   "metadata": {},
   "outputs": [],
   "source": [
    "import praw\n",
    "import pandas as pd\n",
    "import json"
   ]
  },
  {
   "cell_type": "code",
   "execution_count": 13,
   "id": "ecb5a7a8-2f34-4891-abf2-4fc269196f7b",
   "metadata": {},
   "outputs": [],
   "source": [
    "config_file_path = \"/path/to/reddit_config.json\"\n",
    "with open(config_file_path, \"r\") as f:\n",
    "    reddit_config = json.load(f)\n",
    "\n",
    "reddit = praw.Reddit(\n",
    "    client_id=reddit_config[\"client_id\"],\n",
    "    client_secret=reddit_config[\"client_secret\"],\n",
    "    user_agent=reddit_config[\"user_agent\"]\n",
    ")"
   ]
  },
  {
   "cell_type": "code",
   "execution_count": 3,
   "id": "3fa691ea-1c6a-490c-aed1-a1509fec0760",
   "metadata": {},
   "outputs": [],
   "source": [
    "def scrape_subreddit(subreddit_name, keywords, limit=50, time_filter=\"all\"):\n",
    "    subreddit = reddit.subreddit(subreddit_name)\n",
    "    posts_data = []\n",
    "\n",
    "    for submission in subreddit.search(query, limit=limit):\n",
    "        # Collect post details\n",
    "        post_details = {\n",
    "            \"title\": submission.title,\n",
    "            \"content\": submission.selftext,\n",
    "            \"upvotes\": submission.score,\n",
    "            \"num_comments\": submission.num_comments,\n",
    "            \"url\": submission.url,\n",
    "            \"comments\": []\n",
    "        }\n",
    "        \n",
    "        # Fetch top-level comments (up to 10)\n",
    "        submission.comments.replace_more(limit=0)\n",
    "        for comment in submission.comments[:10]:\n",
    "            post_details[\"comments\"].append(comment.body)\n",
    "\n",
    "        posts_data.append(post_details)\n",
    "    \n",
    "    return pd.DataFrame(posts_data)\n",
    "\n",
    "keywords = [\n",
    "    \"ChatGPT privacy AND developers\",\n",
    "    \"How developers use LLMs for privacy\",\n",
    "    \"Privacy concerns with AI tools\",\n",
    "    \"Ethical AI for secure coding\",\n",
    "    \"Large language models AND GDPR compliance\",\n",
    "    \"Developers' privacy-related questions for ChatGPT\",\n",
    "    \"AI tools for data-sensitive programming\",\n",
    "    \"Privacy in AI-assisted development\",\n",
    "    \"Confidential data and LLM applications\",\n",
    "    \"Responsible AI for secure coding practices\"\n",
    "]\n"
   ]
  },
  {
   "cell_type": "code",
   "execution_count": 4,
   "id": "76aecca9-f8e0-4269-9cde-1394aef18326",
   "metadata": {},
   "outputs": [],
   "source": [
    "subreddits = [\"privacy\", \"ChatGPT\", \"programming\", \"opensource\"]\n",
    "query = \"ChatGPT OR LLM OR AI privacy\"\n",
    "limit = 10  # Number of posts per subreddit\n",
    "dataframes = []"
   ]
  },
  {
   "cell_type": "code",
   "execution_count": 17,
   "id": "78e375b2-39af-4656-add1-66c115e0bdb1",
   "metadata": {},
   "outputs": [],
   "source": []
  },
  {
   "cell_type": "code",
   "execution_count": 5,
   "id": "5631d802-606d-45e1-bc30-de829681fe1a",
   "metadata": {},
   "outputs": [
    {
     "name": "stdout",
     "output_type": "stream",
     "text": [
      "Scraping subreddit: privacy...\n",
      "Scraping subreddit: ChatGPT...\n",
      "Scraping subreddit: programming...\n",
      "Scraping subreddit: opensource...\n"
     ]
    }
   ],
   "source": [
    "for subreddit_name in subreddits:\n",
    "    print(f\"Scraping subreddit: {subreddit_name}...\")\n",
    "    df = scrape_subreddit(subreddit_name, query, limit)\n",
    "    df[\"subreddit\"] = subreddit_name\n",
    "    dataframes.append(df)"
   ]
  },
  {
   "cell_type": "code",
   "execution_count": 6,
   "id": "3b0238e9-ebd2-487c-bed3-5ec44cc4b5c1",
   "metadata": {},
   "outputs": [],
   "source": [
    "final_df = pd.concat(dataframes, ignore_index=True)"
   ]
  },
  {
   "cell_type": "code",
   "execution_count": 7,
   "id": "fa663fa3-5705-4684-91e2-a22778413d8b",
   "metadata": {},
   "outputs": [
    {
     "name": "stdout",
     "output_type": "stream",
     "text": [
      "Scraped data saved to 'reddit_llm_privacy_posts.csv'.\n"
     ]
    }
   ],
   "source": [
    "final_df.to_csv(\"reddit_llm_privacy_posts.csv\", index=False)\n",
    "print(\"Scraped data saved to 'reddit_llm_privacy_posts.csv'.\")"
   ]
  },
  {
   "cell_type": "code",
   "execution_count": 9,
   "id": "9d447393-ecbb-479f-8fc1-486b05d69274",
   "metadata": {},
   "outputs": [
    {
     "name": "stdout",
     "output_type": "stream",
     "text": [
      "                                               title  \\\n",
      "0                      ChatGPT/OpenAI privacy policy   \n",
      "1  What are the Privacy Risks of using LLMs like ...   \n",
      "2  Data privacy doubts regarding using commercial...   \n",
      "3  LLMs are trained on your data, without you eve...   \n",
      "4  Privacy for the rich. In a record setting pace...   \n",
      "\n",
      "                                             content  upvotes  num_comments  \\\n",
      "0  ChatGPT privacy policy\\n\\nI've gone through th...        0             6   \n",
      "1  It's a commonly held belief that LLMs are a pr...        1             6   \n",
      "2  I've been working on integrating GPT3 API as w...        6             2   \n",
      "3  I realized today as I was browsing my Quora's ...      358            37   \n",
      "4                                                       13112           723   \n",
      "\n",
      "                                                 url  \\\n",
      "0  https://www.reddit.com/r/privacy/comments/1g5f...   \n",
      "1  https://www.reddit.com/r/privacy/comments/1d9m...   \n",
      "2  https://www.reddit.com/r/privacy/comments/10id...   \n",
      "3  https://www.reddit.com/r/privacy/comments/1b7i...   \n",
      "4  https://gizmodo.com/congress-just-made-it-way-...   \n",
      "\n",
      "                                            comments subreddit  \n",
      "0  [You can use a self-hosted LLM, like ollama.  ...   privacy  \n",
      "1  [You need to train those models, which require...   privacy  \n",
      "2  [Of course they will all the data they possibl...   privacy  \n",
      "3  [Good rule of thumb is that if it's public fac...   privacy  \n",
      "4  [You can have anything if you can afford to pa...   privacy  \n"
     ]
    }
   ],
   "source": [
    "print(final_df.head())"
   ]
  }
 ],
 "metadata": {
  "kernelspec": {
   "display_name": "Python 3 (ipykernel)",
   "language": "python",
   "name": "python3"
  },
  "language_info": {
   "codemirror_mode": {
    "name": "ipython",
    "version": 3
   },
   "file_extension": ".py",
   "mimetype": "text/x-python",
   "name": "python",
   "nbconvert_exporter": "python",
   "pygments_lexer": "ipython3",
   "version": "3.11.5"
  }
 },
 "nbformat": 4,
 "nbformat_minor": 5
}
