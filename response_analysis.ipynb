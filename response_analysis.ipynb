{
 "cells": [
  {
   "cell_type": "code",
   "execution_count": 2,
   "id": "75160103-1492-4c4a-b53f-7e8673493860",
   "metadata": {},
   "outputs": [],
   "source": [
    "import matplotlib\n",
    "import pandas as pd\n",
    "import scipy.stats as stats"
   ]
  },
  {
   "cell_type": "code",
   "execution_count": null,
   "id": "95f7e48b-ed41-4730-92b8-3e1326abffb4",
   "metadata": {},
   "outputs": [],
   "source": [
    "# Read the responses.xlsx file where the survey responses were collected"
   ]
  },
  {
   "cell_type": "code",
   "execution_count": null,
   "id": "7b0fda19-28bf-472e-918e-d05e7509fffd",
   "metadata": {},
   "outputs": [],
   "source": [
    "df = pd.read_excel(\"/path/to/responses.xlsx\")"
   ]
  },
  {
   "cell_type": "code",
   "execution_count": null,
   "id": "2339718d-0541-4b39-ae84-2bb0e4b5f3ab",
   "metadata": {},
   "outputs": [],
   "source": [
    "# H1: Use of LLMs for privacy-related questions improves efficiency"
   ]
  },
  {
   "cell_type": "code",
   "execution_count": 9,
   "id": "314e7193-17f7-4814-a0c5-bf30173ac4a3",
   "metadata": {},
   "outputs": [],
   "source": [
    "correlation_h1, p_value_h1 = stats.pearsonr(\n",
    "    df[\"How often do you use LLMs for privacy related questions?\"],\n",
    "    df[\"Employing LLMs for privacy inquiries in development made my work efficient.\"]\n",
    ")"
   ]
  },
  {
   "cell_type": "code",
   "execution_count": 10,
   "id": "9d0c1602-f3ce-49a6-b0cc-493d53ffbcd8",
   "metadata": {},
   "outputs": [
    {
     "name": "stdout",
     "output_type": "stream",
     "text": [
      "Pearson Correlation Coefficient: 0.8107350578465953\n",
      "P-value: 0.0007735052271126239\n"
     ]
    }
   ],
   "source": [
    "print(\"Pearson Correlation Coefficient:\", correlation)\n",
    "print(\"P-value:\", p_value)"
   ]
  },
  {
   "cell_type": "code",
   "execution_count": null,
   "id": "ad63aa50-0cb5-4a3f-bc39-df807f9c2813",
   "metadata": {},
   "outputs": [],
   "source": [
    "# H2: Chat GPT users did not necessarily report accurate findings"
   ]
  },
  {
   "cell_type": "code",
   "execution_count": 13,
   "id": "1e4e9027-7f56-4d5f-b770-af68ed578617",
   "metadata": {},
   "outputs": [],
   "source": [
    "# Assign scores based on the position of \"Chat GPT\"\n",
    "def assign_chatgpt_score(ranked_string):\n",
    "    ranking = ranked_string.split(\",\")\n",
    "    return 4 - ranking.index(\"Chat GPT\")\n",
    "\n",
    "# Create a new column for ChatGPT scores\n",
    "df[\"ChatGPT_Score\"] = df[\"Rank your frequently used LLMs.\"].apply(assign_chatgpt_score)\n",
    "\n",
    "# Calculate the Pearson correlation coefficient\n",
    "correlation_h2, p_value_h2 = stats.pearsonr(\n",
    "    df[\"ChatGPT_Score\"],\n",
    "    df[\"How often are your responses accurate?\"]\n",
    ")"
   ]
  },
  {
   "cell_type": "code",
   "execution_count": 14,
   "id": "bd9cf1c4-6da5-4e2d-a1cd-8bd18e92e03d",
   "metadata": {},
   "outputs": [
    {
     "name": "stdout",
     "output_type": "stream",
     "text": [
      "Pearson Correlation Coefficient: 0.18622082065168843\n",
      "P-value: 0.5424302080209761\n"
     ]
    }
   ],
   "source": [
    "print(\"Pearson Correlation Coefficient:\", correlation_h2)\n",
    "print(\"P-value:\", p_value_h2)"
   ]
  },
  {
   "cell_type": "code",
   "execution_count": null,
   "id": "75ff96f6-52b1-4a12-93df-0201391bbf45",
   "metadata": {},
   "outputs": [],
   "source": [
    "# H3: Irrespective of LLM usage, users cross-validate findings"
   ]
  },
  {
   "cell_type": "code",
   "execution_count": 16,
   "id": "b01c4bd2-0462-42b1-a2d4-299a6e1d7916",
   "metadata": {},
   "outputs": [],
   "source": [
    "correlation_h3, p_value_h3 = stats.pearsonr(\n",
    "    df[\"I double-check LLMs response with other sources for validation.\"],\n",
    "    df[\"LLMs are my primary resource for privacy questions\"]\n",
    ")"
   ]
  },
  {
   "cell_type": "code",
   "execution_count": 17,
   "id": "8e55fa25-44c2-42ee-90bf-5b1588824bac",
   "metadata": {},
   "outputs": [
    {
     "name": "stdout",
     "output_type": "stream",
     "text": [
      "Pearson Correlation Coefficient: 0.7301190309842694\n",
      "P-value: 0.00460211585721718\n"
     ]
    }
   ],
   "source": [
    "print(\"Pearson Correlation Coefficient:\", correlation_h3)\n",
    "print(\"P-value:\", p_value_h3)"
   ]
  },
  {
   "cell_type": "code",
   "execution_count": 22,
   "id": "8389de57-d822-40a4-ba83-33521793d0fb",
   "metadata": {},
   "outputs": [
    {
     "data": {
      "text/plain": [
       "6.3076923076923075"
      ]
     },
     "execution_count": 22,
     "metadata": {},
     "output_type": "execute_result"
    }
   ],
   "source": [
    "df[\"LLMs are my primary resource for privacy questions\"].mean()\n",
    "df[\"I double-check LLMs response with other sources for validation.\"].mean()"
   ]
  },
  {
   "cell_type": "code",
   "execution_count": null,
   "id": "4ed30d75-d9c9-46fa-9b1a-4c5f8656ef83",
   "metadata": {},
   "outputs": [],
   "source": [
    "response_counts = df[\"Does your organization have or have plans to launch a custom LLM that is just trained on your company data?\"].value_counts()"
   ]
  },
  {
   "cell_type": "code",
   "execution_count": null,
   "id": "23aadcd0-9036-439c-80be-ec93d0a64504",
   "metadata": {},
   "outputs": [],
   "source": [
    "plt.figure(figsize=(8, 8))\n",
    "response_counts.plot(\n",
    "    kind=\"pie\",\n",
    "    autopct='%1.1f%%',\n",
    "    colors=[\"#FF9999\", \"#66B2FF\", \"#99FF99\"],\n",
    "    startangle=140,\n",
    "    textprops={'fontsize': 12}\n",
    ")\n",
    "plt.title(\"Organizational Plans for Custom LLM Deployment\", fontsize=14)\n",
    "plt.ylabel(\"\")\n",
    "plt.tight_layout()\n",
    "plt.show()"
   ]
  }
 ],
 "metadata": {
  "kernelspec": {
   "display_name": "Python 3 (ipykernel)",
   "language": "python",
   "name": "python3"
  },
  "language_info": {
   "codemirror_mode": {
    "name": "ipython",
    "version": 3
   },
   "file_extension": ".py",
   "mimetype": "text/x-python",
   "name": "python",
   "nbconvert_exporter": "python",
   "pygments_lexer": "ipython3",
   "version": "3.11.5"
  }
 },
 "nbformat": 4,
 "nbformat_minor": 5
}
